{
 "metadata": {
  "name": "FindTimes&Prices"
 },
 "nbformat": 3,
 "nbformat_minor": 0,
 "worksheets": [
  {
   "cells": [
    {
     "cell_type": "code",
     "collapsed": false,
     "input": [
      "from trip_planner import *\n",
      "from get_route import *"
     ],
     "language": "python",
     "metadata": {},
     "outputs": [],
     "prompt_number": 1
    },
    {
     "cell_type": "code",
     "collapsed": false,
     "input": [
      "cared, url = get_cared_about2(mb_api, 'Chicago, IL', 'St Louis, MO', '7', '5', '2013')"
     ],
     "language": "python",
     "metadata": {},
     "outputs": [],
     "prompt_number": 22
    },
    {
     "cell_type": "code",
     "collapsed": false,
     "input": [
      "xml = get_doc('new_cities.xml')\n",
      "locs = get_title_locations(xml)\n",
      "routes = generate_routes2(xml, locs)"
     ],
     "language": "python",
     "metadata": {},
     "outputs": [],
     "prompt_number": 5
    },
    {
     "cell_type": "code",
     "collapsed": false,
     "input": [
      "cared2 = get_cared_about(mb_api, 'Chicago, IL', 'St Louis, MO', '7', '5', '2013')"
     ],
     "language": "python",
     "metadata": {},
     "outputs": [],
     "prompt_number": 23
    },
    {
     "cell_type": "code",
     "collapsed": false,
     "input": [
      "times = find_times_and_price2(cared, 'Chicago, IL')\n",
      "times2 = find_times_and_price2(cared2, 'Chicago, IL')"
     ],
     "language": "python",
     "metadata": {},
     "outputs": [],
     "prompt_number": 29
    },
    {
     "cell_type": "code",
     "collapsed": false,
     "input": [
      "trip_legs, trip_hours, trip_links = make_formatted(trip, '4', '6')\n"
     ],
     "language": "python",
     "metadata": {},
     "outputs": [],
     "prompt_number": 15
    },
    {
     "cell_type": "code",
     "collapsed": false,
     "input": [
      "url"
     ],
     "language": "python",
     "metadata": {},
     "outputs": [
      {
       "output_type": "pyout",
       "prompt_number": 10,
       "text": [
        "'http://us.megabus.com/JourneyResults.aspx?originCode=136&destinationCode=100&outboundDepartureDate=5%2f7%2f2013&inboundDepartureDate=&passengerCount=1&transportType=0&concessionCount=0&nusCount=0&outboundWheelchairSeated=0&outboundOtherDisabilityCount=0&inboundWheelchairSeated=0&inboundOtherDisabilityCount=0&outboundPcaCount=0&inboundPcaCount=0&promotionCode=&withReturn=0'"
       ]
      }
     ],
     "prompt_number": 10
    },
    {
     "cell_type": "code",
     "collapsed": false,
     "input": [
      "times"
     ],
     "language": "python",
     "metadata": {},
     "outputs": [
      {
       "output_type": "pyout",
       "prompt_number": 30,
       "text": [
        "[['-', '$.', 'ct'],\n",
        " ['845AM-215PM', '$13.00', '1393376'],\n",
        " ['630AM-1200PM', '$15.00', '1393403'],\n",
        " ['1155PM-525AM', '$13.00', '1393379'],\n",
        " ['530PM-1130PM', '$11.00', '2158077']]"
       ]
      }
     ],
     "prompt_number": 30
    },
    {
     "cell_type": "code",
     "collapsed": false,
     "input": [
      "times2"
     ],
     "language": "python",
     "metadata": {},
     "outputs": [
      {
       "output_type": "pyout",
       "prompt_number": 31,
       "text": [
        "[['630AM-1200PM', '$15.00', '1393403'],\n",
        " ['530PM-1130PM', '$11.00', '2158077'],\n",
        " ['845AM-215PM', '$13.00', '1393376'],\n",
        " ['1155PM-525AM', '$13.00', '1393379']]"
       ]
      }
     ],
     "prompt_number": 31
    },
    {
     "cell_type": "code",
     "collapsed": false,
     "input": [
      "get_locations(cared, 'Chicago, IL')"
     ],
     "language": "python",
     "metadata": {},
     "outputs": [
      {
       "output_type": "pyout",
       "prompt_number": 26,
       "text": [
        "[142, 225, 274, 323, 372]"
       ]
      }
     ],
     "prompt_number": 26
    },
    {
     "cell_type": "code",
     "collapsed": false,
     "input": [
      "get_locations(cared2, 'Chicago, IL')"
     ],
     "language": "python",
     "metadata": {},
     "outputs": [
      {
       "output_type": "pyout",
       "prompt_number": 27,
       "text": [
        "[11, 60, 109, 158]"
       ]
      }
     ],
     "prompt_number": 27
    },
    {
     "cell_type": "code",
     "collapsed": false,
     "input": [
      "for hour in range(len(hours)):\n",
      "    for key in trip_hours.keys():\n",
      "        if trip_hours[key] == hours[hour]:\n",
      "            new_key = str(hour+1)\n",
      "            new_legs[new_key] = trip_legs[key]\n",
      "            new_hours[new_key] = trip_hours[key]\n",
      "            new_links[new_key] = trip_links[key]"
     ],
     "language": "python",
     "metadata": {},
     "outputs": [],
     "prompt_number": 28
    },
    {
     "cell_type": "code",
     "collapsed": false,
     "input": [
      "print len(cared), len(cared2)"
     ],
     "language": "python",
     "metadata": {},
     "outputs": [
      {
       "output_type": "stream",
       "stream": "stdout",
       "text": [
        "433 219\n"
       ]
      }
     ],
     "prompt_number": 28
    },
    {
     "cell_type": "code",
     "collapsed": false,
     "input": [
      "new_legs"
     ],
     "language": "python",
     "metadata": {},
     "outputs": [
      {
       "output_type": "pyout",
       "prompt_number": 31,
       "text": [
        "{'1': {'leg 1': {'Orlando, FL-Atlanta, GA-4-6': [('730AM-425PM', '$34.00'),\n",
        "    ('200PM-1015PM', '$26.00'),\n",
        "    ('1130AM-745PM', '$26.00'),\n",
        "    ('1130PM-845AM', '$34.00'),\n",
        "    ('800PM-455AM', '$26.00')]},\n",
        "  'leg 2': {'Atlanta, GA-Memphis, TN-4-6': [('630AM-125PM', '$21.00'),\n",
        "    ('1030PM-515AM', '$15.00'),\n",
        "    ('130PM-825PM', '$29.00')]},\n",
        "  'leg 3': {'Memphis, TN-St Louis, MO-4-7': [('640AM-1150AM', '$29.00')]}},\n",
        " '2': {'leg 1': {'Orlando, FL-Atlanta, GA-4-6': [('730AM-425PM', '$34.00'),\n",
        "    ('200PM-1015PM', '$26.00'),\n",
        "    ('1130AM-745PM', '$26.00'),\n",
        "    ('1130PM-845AM', '$34.00'),\n",
        "    ('800PM-455AM', '$26.00')]},\n",
        "  'leg 2': {'Atlanta, GA-Dallas/Fort Worth, TX-4-6': [('130PM-625AM',\n",
        "     '$59.00'),\n",
        "    ('130PM-650AM', '$59.00')]},\n",
        "  'leg 3': {'Dallas/Fort Worth, TX-St Louis, MO-4-8': [('-', '$.')]}},\n",
        " '3': {'leg 1': {'Orlando, FL-Atlanta, GA-4-6': [('730AM-425PM', '$34.00'),\n",
        "    ('200PM-1015PM', '$26.00'),\n",
        "    ('1130AM-745PM', '$26.00'),\n",
        "    ('1130PM-845AM', '$34.00'),\n",
        "    ('800PM-455AM', '$26.00')]},\n",
        "  'leg 2': {'Atlanta, GA-Chicago, IL-4-6': [('130PM-900AM', '$89.00')]},\n",
        "  'leg 3': {'Chicago, IL-St Louis, MO-4-8': [('630AM-1200PM', '$30.00'),\n",
        "    ('1145AM-545PM', '$25.00'),\n",
        "    ('845AM-215PM', '$15.00'),\n",
        "    ('1155PM-525AM', '$30.00'),\n",
        "    ('530PM-1130PM', '$11.00')]}}}"
       ]
      }
     ],
     "prompt_number": 31
    },
    {
     "cell_type": "code",
     "collapsed": false,
     "input": [],
     "language": "python",
     "metadata": {},
     "outputs": []
    }
   ],
   "metadata": {}
  }
 ]
}