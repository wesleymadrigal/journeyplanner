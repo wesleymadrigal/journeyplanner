{
 "metadata": {
  "name": "FindTimes&Prices"
 },
 "nbformat": 3,
 "nbformat_minor": 0,
 "worksheets": [
  {
   "cells": [
    {
     "cell_type": "code",
     "collapsed": false,
     "input": [
      "from trip_planner import *\n",
      "from get_route import *"
     ],
     "language": "python",
     "metadata": {},
     "outputs": [],
     "prompt_number": 1
    },
    {
     "cell_type": "code",
     "collapsed": false,
     "input": [
      "cared, url = get_cared_about2(mb_api, 'Chicago, IL', 'St Louis, MO', '7', '5', '2013')"
     ],
     "language": "python",
     "metadata": {},
     "outputs": [],
     "prompt_number": 22
    },
    {
     "cell_type": "code",
     "collapsed": false,
     "input": [
      "xml = get_doc('new_cities.xml')\n",
      "locs = get_title_locations(xml)\n",
      "routes = generate_routes2(xml, locs)"
     ],
     "language": "python",
     "metadata": {},
     "outputs": [],
     "prompt_number": 2
    },
    {
     "cell_type": "code",
     "collapsed": false,
     "input": [
      "cared2 = get_cared_about(mb_api, 'Chicago, IL', 'St Louis, MO', '7', '5', '2013')"
     ],
     "language": "python",
     "metadata": {},
     "outputs": [],
     "prompt_number": 23
    },
    {
     "cell_type": "code",
     "collapsed": false,
     "input": [
      "trip = plan_trip('New Haven, CT', 'New York, NY', routes)"
     ],
     "language": "python",
     "metadata": {},
     "outputs": [],
     "prompt_number": 3
    },
    {
     "cell_type": "code",
     "collapsed": false,
     "input": [
      "trip\n"
     ],
     "language": "python",
     "metadata": {},
     "outputs": [
      {
       "output_type": "pyout",
       "prompt_number": 4,
       "text": [
        "{'1': ['New Haven, CT', 'New York, NY']}"
       ]
      }
     ],
     "prompt_number": 4
    },
    {
     "cell_type": "code",
     "collapsed": false,
     "input": [
      "trip_legs, trip_hours, trip_times = make_formatted3(trip, '5', '7')"
     ],
     "language": "python",
     "metadata": {},
     "outputs": [],
     "prompt_number": 5
    },
    {
     "cell_type": "code",
     "collapsed": false,
     "input": [
      "response = generate_response3(trip_legs, trip_hours, trip_times)"
     ],
     "language": "python",
     "metadata": {},
     "outputs": [
      {
       "ename": "NameError",
       "evalue": "global name 'time' is not defined",
       "output_type": "pyerr",
       "traceback": [
        "\u001b[1;31m---------------------------------------------------------------------------\u001b[0m\n\u001b[1;31mNameError\u001b[0m                                 Traceback (most recent call last)",
        "\u001b[1;32m<ipython-input-6-d04719ed017d>\u001b[0m in \u001b[0;36m<module>\u001b[1;34m()\u001b[0m\n\u001b[1;32m----> 1\u001b[1;33m \u001b[0mresponse\u001b[0m \u001b[1;33m=\u001b[0m \u001b[0mgenerate_response3\u001b[0m\u001b[1;33m(\u001b[0m\u001b[0mtrip_legs\u001b[0m\u001b[1;33m,\u001b[0m \u001b[0mtrip_hours\u001b[0m\u001b[1;33m,\u001b[0m \u001b[0mtrip_times\u001b[0m\u001b[1;33m)\u001b[0m\u001b[1;33m\u001b[0m\u001b[0m\n\u001b[0m",
        "\u001b[1;32m/home/wes/google_projects/megabusfinder/V2/trip_planner.pyc\u001b[0m in \u001b[0;36mgenerate_response3\u001b[1;34m(trip_dict, trip_hours, link_trip_dict)\u001b[0m\n\u001b[0;32m    430\u001b[0m                 \u001b[1;32mfor\u001b[0m \u001b[0mhour_key\u001b[0m \u001b[1;32min\u001b[0m \u001b[0mtrip_dict\u001b[0m\u001b[1;33m[\u001b[0m\u001b[0mstr\u001b[0m\u001b[1;33m(\u001b[0m\u001b[0mtrip_dict_key\u001b[0m\u001b[1;33m)\u001b[0m\u001b[1;33m]\u001b[0m\u001b[1;33m[\u001b[0m\u001b[0mthe_leg\u001b[0m\u001b[1;33m]\u001b[0m\u001b[1;33m[\u001b[0m\u001b[0mroute\u001b[0m\u001b[1;33m]\u001b[0m\u001b[1;33m:\u001b[0m\u001b[1;33m\u001b[0m\u001b[0m\n\u001b[0;32m    431\u001b[0m                     \u001b[1;32mfor\u001b[0m \u001b[0meach\u001b[0m \u001b[1;32min\u001b[0m \u001b[0mtrip_dict\u001b[0m\u001b[1;33m[\u001b[0m\u001b[0mstr\u001b[0m\u001b[1;33m(\u001b[0m\u001b[0mtrip_dict_key\u001b[0m\u001b[1;33m)\u001b[0m\u001b[1;33m]\u001b[0m\u001b[1;33m[\u001b[0m\u001b[0mthe_leg\u001b[0m\u001b[1;33m]\u001b[0m\u001b[1;33m[\u001b[0m\u001b[0mroute\u001b[0m\u001b[1;33m]\u001b[0m\u001b[1;33m[\u001b[0m\u001b[0mhour_key\u001b[0m\u001b[1;33m]\u001b[0m\u001b[1;33m:\u001b[0m\u001b[1;33m\u001b[0m\u001b[0m\n\u001b[1;32m--> 432\u001b[1;33m                         \u001b[1;32mif\u001b[0m \u001b[0mlen\u001b[0m\u001b[1;33m(\u001b[0m\u001b[0mtime\u001b[0m\u001b[1;33m)\u001b[0m \u001b[1;33m>\u001b[0m \u001b[1;36m1\u001b[0m \u001b[1;32mand\u001b[0m \u001b[0mlen\u001b[0m\u001b[1;33m(\u001b[0m\u001b[0mprice\u001b[0m\u001b[1;33m)\u001b[0m \u001b[1;33m>\u001b[0m \u001b[1;36m1\u001b[0m \u001b[1;32mand\u001b[0m \u001b[0mlen\u001b[0m\u001b[1;33m(\u001b[0m\u001b[0mvalue\u001b[0m\u001b[1;33m)\u001b[0m \u001b[1;33m>\u001b[0m \u001b[1;36m1\u001b[0m\u001b[1;33m:\u001b[0m\u001b[1;33m\u001b[0m\u001b[0m\n\u001b[0m\u001b[0;32m    433\u001b[0m                             \u001b[0mname\u001b[0m \u001b[1;33m=\u001b[0m \u001b[1;34m'leg%s'\u001b[0m \u001b[1;33m%\u001b[0m \u001b[0mstr\u001b[0m\u001b[1;33m(\u001b[0m\u001b[0mleg\u001b[0m\u001b[1;33m)\u001b[0m\u001b[1;33m\u001b[0m\u001b[0m\n\u001b[0;32m    434\u001b[0m                             \u001b[0mid_and_url\u001b[0m \u001b[1;33m=\u001b[0m \u001b[0meach\u001b[0m\u001b[1;33m[\u001b[0m\u001b[1;36m2\u001b[0m\u001b[1;33m]\u001b[0m \u001b[1;33m+\u001b[0m \u001b[1;34m'-'\u001b[0m \u001b[1;33m+\u001b[0m \u001b[0meach\u001b[0m\u001b[1;33m[\u001b[0m\u001b[1;36m3\u001b[0m\u001b[1;33m]\u001b[0m\u001b[1;33m\u001b[0m\u001b[0m\n",
        "\u001b[1;31mNameError\u001b[0m: global name 'time' is not defined"
       ]
      }
     ],
     "prompt_number": 6
    },
    {
     "cell_type": "code",
     "collapsed": false,
     "input": [
      "times2"
     ],
     "language": "python",
     "metadata": {},
     "outputs": [
      {
       "output_type": "pyout",
       "prompt_number": 31,
       "text": [
        "[['630AM-1200PM', '$15.00', '1393403'],\n",
        " ['530PM-1130PM', '$11.00', '2158077'],\n",
        " ['845AM-215PM', '$13.00', '1393376'],\n",
        " ['1155PM-525AM', '$13.00', '1393379']]"
       ]
      }
     ],
     "prompt_number": 31
    },
    {
     "cell_type": "code",
     "collapsed": false,
     "input": [
      "get_locations(cared, 'Chicago, IL')"
     ],
     "language": "python",
     "metadata": {},
     "outputs": [
      {
       "output_type": "pyout",
       "prompt_number": 26,
       "text": [
        "[142, 225, 274, 323, 372]"
       ]
      }
     ],
     "prompt_number": 26
    },
    {
     "cell_type": "code",
     "collapsed": false,
     "input": [
      "get_locations(cared2, 'Chicago, IL')"
     ],
     "language": "python",
     "metadata": {},
     "outputs": [
      {
       "output_type": "pyout",
       "prompt_number": 27,
       "text": [
        "[11, 60, 109, 158]"
       ]
      }
     ],
     "prompt_number": 27
    },
    {
     "cell_type": "code",
     "collapsed": false,
     "input": [
      "for hour in range(len(hours)):\n",
      "    for key in trip_hours.keys():\n",
      "        if trip_hours[key] == hours[hour]:\n",
      "            new_key = str(hour+1)\n",
      "            new_legs[new_key] = trip_legs[key]\n",
      "            new_hours[new_key] = trip_hours[key]\n",
      "            new_links[new_key] = trip_links[key]"
     ],
     "language": "python",
     "metadata": {},
     "outputs": [],
     "prompt_number": 28
    },
    {
     "cell_type": "code",
     "collapsed": false,
     "input": [
      "print len(cared), len(cared2)"
     ],
     "language": "python",
     "metadata": {},
     "outputs": [
      {
       "output_type": "stream",
       "stream": "stdout",
       "text": [
        "433 219\n"
       ]
      }
     ],
     "prompt_number": 28
    },
    {
     "cell_type": "code",
     "collapsed": false,
     "input": [
      "new_legs"
     ],
     "language": "python",
     "metadata": {},
     "outputs": [
      {
       "output_type": "pyout",
       "prompt_number": 31,
       "text": [
        "{'1': {'leg 1': {'Orlando, FL-Atlanta, GA-4-6': [('730AM-425PM', '$34.00'),\n",
        "    ('200PM-1015PM', '$26.00'),\n",
        "    ('1130AM-745PM', '$26.00'),\n",
        "    ('1130PM-845AM', '$34.00'),\n",
        "    ('800PM-455AM', '$26.00')]},\n",
        "  'leg 2': {'Atlanta, GA-Memphis, TN-4-6': [('630AM-125PM', '$21.00'),\n",
        "    ('1030PM-515AM', '$15.00'),\n",
        "    ('130PM-825PM', '$29.00')]},\n",
        "  'leg 3': {'Memphis, TN-St Louis, MO-4-7': [('640AM-1150AM', '$29.00')]}},\n",
        " '2': {'leg 1': {'Orlando, FL-Atlanta, GA-4-6': [('730AM-425PM', '$34.00'),\n",
        "    ('200PM-1015PM', '$26.00'),\n",
        "    ('1130AM-745PM', '$26.00'),\n",
        "    ('1130PM-845AM', '$34.00'),\n",
        "    ('800PM-455AM', '$26.00')]},\n",
        "  'leg 2': {'Atlanta, GA-Dallas/Fort Worth, TX-4-6': [('130PM-625AM',\n",
        "     '$59.00'),\n",
        "    ('130PM-650AM', '$59.00')]},\n",
        "  'leg 3': {'Dallas/Fort Worth, TX-St Louis, MO-4-8': [('-', '$.')]}},\n",
        " '3': {'leg 1': {'Orlando, FL-Atlanta, GA-4-6': [('730AM-425PM', '$34.00'),\n",
        "    ('200PM-1015PM', '$26.00'),\n",
        "    ('1130AM-745PM', '$26.00'),\n",
        "    ('1130PM-845AM', '$34.00'),\n",
        "    ('800PM-455AM', '$26.00')]},\n",
        "  'leg 2': {'Atlanta, GA-Chicago, IL-4-6': [('130PM-900AM', '$89.00')]},\n",
        "  'leg 3': {'Chicago, IL-St Louis, MO-4-8': [('630AM-1200PM', '$30.00'),\n",
        "    ('1145AM-545PM', '$25.00'),\n",
        "    ('845AM-215PM', '$15.00'),\n",
        "    ('1155PM-525AM', '$30.00'),\n",
        "    ('530PM-1130PM', '$11.00')]}}}"
       ]
      }
     ],
     "prompt_number": 31
    },
    {
     "cell_type": "code",
     "collapsed": false,
     "input": [],
     "language": "python",
     "metadata": {},
     "outputs": []
    }
   ],
   "metadata": {}
  }
 ]
}